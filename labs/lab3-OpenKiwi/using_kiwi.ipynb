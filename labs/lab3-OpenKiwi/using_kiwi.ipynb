{
 "cells": [
  {
   "cell_type": "markdown",
   "metadata": {},
   "source": [
    "# Welcome to the OpenKiwi Tutorial\n",
    "\n",
    "In this tutorial we'll take you through a complete test drive of the OpenKiwi framework. OpenKiwi is an end-to-end framework to train, test and infer Machine Translation Quality Estimation (Kiwi) models."
   ]
  },
  {
   "cell_type": "markdown",
   "metadata": {},
   "source": [
    "## Setup \n",
    "\n",
    "Before being able to run OpenKiwi, there is a small setup required. If you have completed this step, keep reading onwards. Otherwise please refer to the TODO [setup instructions](https://github.com/EdinburghNLP/mtm19/tree/master/labs/lab3-openkiwi/setup.md)\n",
    "\n",
    "First, we will begin by loading all necessary libraries to run this notebook. Note that most of these are for demonstration purposes and to facilitate working in a notebook. They should not be necessary for using openkiwi in a normal setting ( should be enough)."
   ]
  },
  {
   "cell_type": "code",
   "execution_count": 1,
   "metadata": {},
   "outputs": [
    {
     "name": "stderr",
     "output_type": "stream",
     "text": [
      "[nltk_data] Downloading package punkt to\n",
      "[nltk_data]     /Users/miguelvera/nltk_data...\n",
      "[nltk_data]   Package punkt is already up-to-date!\n"
     ]
    }
   ],
   "source": [
    "import utils\n",
    "import yaml\n",
    "from ipywidgets import interact, fixed, Textarea\n",
    "from functools import partial\n",
    "%load_ext yamlmagic"
   ]
  },
  {
   "cell_type": "markdown",
   "metadata": {},
   "source": [
    "### Install Kiwi\n",
    "\n",
    "Installing Kiwi to use it as a package is a fairly simple procedure. The only thing you need to do is `pip install openkiwi`! In this case it should already be installed in your machine, so all that's left is to import it."
   ]
  },
  {
   "cell_type": "code",
   "execution_count": 2,
   "metadata": {
    "scrolled": true
   },
   "outputs": [],
   "source": [
    "#!pip install openkiwi\n",
    "import kiwi"
   ]
  },
  {
   "cell_type": "markdown",
   "metadata": {},
   "source": [
    "### Downloading pre-trained models\n",
    "First, we will begin by using a pre-trained OpenKiwi model to evaluate the quality of an existing translation. The pre-trained models made available with OpenKiwi focus mainly on En-De which is has been the primary language pair for the WMT19 shared task on quality estimation.\n",
    "\n",
    "The following cell runs a method which will (conditionally, if you haven't done it yet) download and extract the zip which contains OpenKiwi's pre-trained models."
   ]
  },
  {
   "cell_type": "code",
   "execution_count": 3,
   "metadata": {},
   "outputs": [
    {
     "name": "stderr",
     "output_type": "stream",
     "text": [
      "Getting filename\n",
      "Checking if file already downloaded\n",
      "Extracting trained_models/estimator_en_de.torch.zip\n",
      "Done extracting\n"
     ]
    },
    {
     "data": {
      "text/plain": [
       "PosixPath('trained_models/estimator_en_de.torch')"
      ]
     },
     "execution_count": 3,
     "metadata": {},
     "output_type": "execute_result"
    }
   ],
   "source": [
    "# Download and extract pre-trained kiwi models\n",
    "\n",
    "OK_url = 'https://github.com/captainvera/KiwiCutter/releases/download/v1/.0/estimator_en_de.torch.zip'\n",
    "\n",
    "utils.download_kiwi(OK_url)"
   ]
  },
  {
   "cell_type": "markdown",
   "metadata": {},
   "source": [
    "# Loading and Predicting\n",
    "\n",
    "The model we are going to use is a Predictor-Estimator with an RNN-based architecture. You can find more details about it [here](https://www.aclweb.org/anthology/W17-4763). This model was trained on the [WMT Quality Estimation data](http://www.statmt.org/wmt19/qe-task.html). \n",
    "\n",
    "\n",
    "Using OpenKiwi's API is fairly straightforward. We start by loading the model:"
   ]
  },
  {
   "cell_type": "code",
   "execution_count": 4,
   "metadata": {},
   "outputs": [],
   "source": [
    "model = kiwi.load_model('trained_models/estimator_en_de.torch/estimator_en_de.torch')"
   ]
  },
  {
   "cell_type": "markdown",
   "metadata": {},
   "source": [
    "We then create the sample that we would like to test and make it into a dictionary of lists. In other words, we are creating a batch of examples that Kiwi should use for inference."
   ]
  },
  {
   "cell_type": "code",
   "execution_count": 5,
   "metadata": {},
   "outputs": [],
   "source": [
    "source = ['the part of the regular expression within the forward slashes defines the pattern .']\n",
    "target = ['der Teil des regulären Ausdrucks innerhalb der umgekehrten Schrägstrich definiert das Muster .']\n",
    "examples = {'source': source,'target': target}"
   ]
  },
  {
   "cell_type": "markdown",
   "metadata": {},
   "source": [
    "Then you can simply call `model.predict`!"
   ]
  },
  {
   "cell_type": "code",
   "execution_count": 6,
   "metadata": {},
   "outputs": [],
   "source": [
    "predictions = model.predict(examples)"
   ]
  },
  {
   "cell_type": "markdown",
   "metadata": {},
   "source": [
    "Or you could just as easily, use our cli by passing a config with the location of the models and data:"
   ]
  },
  {
   "cell_type": "code",
   "execution_count": 7,
   "metadata": {},
   "outputs": [],
   "source": [
    "#!kiwi predict --config {path_to_config}"
   ]
  },
  {
   "cell_type": "markdown",
   "metadata": {},
   "source": [
    "The CLI approach is normally used when you want to produce a file of predictions. On the other hand, the Kiwi as a library approach is used when using Kiwi in the context of another application.\n",
    "\n",
    "In this case, Kiwi will return the scores attributed to each token in the default output format which is a python dictionary."
   ]
  },
  {
   "cell_type": "code",
   "execution_count": 8,
   "metadata": {},
   "outputs": [
    {
     "data": {
      "text/plain": [
       "{'tags': [[0.041045259684324265,\n",
       "   0.013736079446971416,\n",
       "   0.011828877963125706,\n",
       "   0.014644719660282135,\n",
       "   0.02259882539510727,\n",
       "   0.10979200899600983,\n",
       "   0.8875276446342468,\n",
       "   0.711827278137207,\n",
       "   0.958560049533844,\n",
       "   0.20660774409770966,\n",
       "   0.22217749059200287,\n",
       "   0.178275004029274,\n",
       "   0.012791422195732594]],\n",
       " 'gap_tags': [[0.008849897421896458,\n",
       "   0.0026340156327933073,\n",
       "   0.0006771517219021916,\n",
       "   0.00045060948468744755,\n",
       "   0.0005860239616595209,\n",
       "   0.02740021049976349,\n",
       "   0.018504058942198753,\n",
       "   0.00671635614708066,\n",
       "   0.021599577739834785,\n",
       "   0.014339200221002102,\n",
       "   0.16987787187099457,\n",
       "   0.0589955672621727,\n",
       "   0.19123131036758423,\n",
       "   0.00963024515658617]],\n",
       " 'sentence_scores': [0.12465395033359528]}"
      ]
     },
     "execution_count": 8,
     "metadata": {},
     "output_type": "execute_result"
    }
   ],
   "source": [
    "predictions"
   ]
  },
  {
   "cell_type": "markdown",
   "metadata": {},
   "source": [
    "You'll notice that this Kiwi model returns three different types of predictions, tags, gap tags and sentence scores:\n",
    "\n",
    "    - Tags: Tags are the scores attributed to each word token. This means that if you have a sentence of length `x` Kiwi will return a list with `x` scores.\n",
    "    \n",
    "    - Gap Tags: These represent the scores of the gaps between words. A gap tag should be marked as bad if there is a word missing in between two other words. This also includes the beggining and end of sentence. As such, on our sequence of length `x`, there will be `x + 1` gap tags. \n",
    "    \n",
    "    - Sentence Score: Finally, the sentence score is a prediction of the sentence's HTER (Human-targeted Translation Error Rate). Or in other words, what is the percentage of the sentence that you would need to change to create a correct translation.\n",
    "    \n",
    "    \n",
    "On the other hand, looking at a bunch of scores with no context is not terribly informative. So, below you can find a small utility to visualize the Kiwi scores in the context of a translation. \n",
    "\n",
    "You'll notice that you can move the threshold for marking a word as bad. This is useful in real-world scenarios as you can calibrate the conservativeness of the models and the severity of the errors you want to highlight."
   ]
  },
  {
   "cell_type": "code",
   "execution_count": 9,
   "metadata": {},
   "outputs": [
    {
     "data": {
      "application/vnd.jupyter.widget-view+json": {
       "model_id": "c8800eebab2e46149feb05ee01c4e754",
       "version_major": 2,
       "version_minor": 0
      },
      "text/plain": [
       "interactive(children=(Textarea(value='the part of the regular expression within the forward slashes defines th…"
      ]
     },
     "metadata": {},
     "output_type": "display_data"
    }
   ],
   "source": [
    "SOURCE = Textarea(value=source[0])\n",
    "MT = Textarea(value=target[0])\n",
    "_interact = interact(utils.KiwiViz, model=fixed(model), source=SOURCE, mt=MT, threshold=(0.0, 1.0))"
   ]
  },
  {
   "cell_type": "markdown",
   "metadata": {},
   "source": [
    "**EXERCISE**: Mess with this translation and see how changing the translations affects the Kiwi scores. "
   ]
  },
  {
   "cell_type": "markdown",
   "metadata": {},
   "source": [
    "# Training a model from scratch\n",
    "\n",
    "OpenKiwi supports training a set of 4 different architectures:\n",
    "    - Linear Model\n",
    "    - Quetch\n",
    "    - NuQE\n",
    "    - Predictor-Estimator\n",
    "    \n",
    "This can be easily achieved either through or API or the command line. But, contrary to inference, as training posesses a host of different options, we rely on yaml config files to pass these parameters into the framework.\n",
    "\n",
    "Below, you'll find an example config file for training a NuQE model."
   ]
  },
  {
   "cell_type": "code",
   "execution_count": 10,
   "metadata": {},
   "outputs": [
    {
     "data": {
      "application/javascript": [
       "\n",
       "            require(\n",
       "                [\n",
       "                    \"notebook/js/codecell\",\n",
       "                    \"codemirror/mode/yaml/yaml\"\n",
       "                ],\n",
       "                function(cc){\n",
       "                    cc.CodeCell.options_default.highlight_modes.magic_yaml = {\n",
       "                        reg: [\"^%%yaml\"]\n",
       "                    }\n",
       "                }\n",
       "            );\n",
       "            "
      ],
      "text/plain": [
       "<IPython.core.display.Javascript object>"
      ]
     },
     "metadata": {},
     "output_type": "display_data"
    }
   ],
   "source": [
    "%%yaml yaml_config\n",
    "#### MODEL SPECIFIC OPTIONS ####\n",
    "#\n",
    "model: nuqe\n",
    "\n",
    "seed: 42\n",
    "\n",
    "output-dir: runs/nuqe\n",
    "\n",
    "window-size: 3\n",
    "max-aligned: 5\n",
    "\n",
    "# embeddings\n",
    "source-embeddings-size: 50\n",
    "source-pos-embeddings-size: 20\n",
    "target-embeddings-size: 50\n",
    "target-pos-embeddings-size: 20\n",
    "\n",
    "# network\n",
    "hidden-sizes: [400, 200, 100, 50]\n",
    "dropout: 0.0\n",
    "embeddings-dropout: 0.5\n",
    "freeze-embeddings: false\n",
    "bad-weight: 3.0\n",
    "\n",
    "# initialization\n",
    "init-support: 0.1\n",
    "init-type: uniform\n",
    "\n",
    "### Pretrained Embedding Options ###\n",
    "# pip-install the polyglot package to use these\n",
    "#embeddings-format: polyglot\n",
    "#    source: path/to/source/embeddings_pkl.tar.bz2\n",
    "#    target: path/to/target/embeddings_pkl.tar.bz2\n",
    "\n",
    "#\n",
    "# TRAINING OPTIONS\n",
    "#\n",
    "epochs: 3\n",
    "train-batch-size: 64\n",
    "valid-batch-size: 64\n",
    "\n",
    "log-interval: 100\n",
    "checkpoint-save: true\n",
    "checkpoint-keep-only-best: 1\n",
    "checkpoint-early-stop-patience: 10\n",
    "\n",
    "optimizer: adam\n",
    "learning-rate: 0.001\n",
    "\n",
    "gpu-id: -1\n",
    "\n",
    "predict-target: true\n",
    "\n",
    "#\n",
    "# DATA OPTIONS\n",
    "#\n",
    "wmt18-format: true\n",
    "train-source: WMT19/train.src\n",
    "train-target: WMT19/train.mt\n",
    "train-target-tags: WMT19/train.tags\n",
    "train-alignments: WMT19/train.src-mt.alignments\n",
    "\n",
    "valid-source: WMT19/dev.src\n",
    "valid-target: WMT19/dev.mt\n",
    "valid-target-tags: WMT19/dev.tags\n",
    "valid-alignments: WMT19/dev.src-mt.alignments\n",
    "\n",
    "# vocabulary\n",
    "source-vocab-min-frequency: 2\n",
    "target-vocab-min-frequency: 2\n",
    "keep-rare-words-with-embeddings: true\n",
    "add-embeddings-vocab: false\n"
   ]
  },
  {
   "cell_type": "markdown",
   "metadata": {},
   "source": [
    "We save this config to a file so it can be loaded later into kiwi."
   ]
  },
  {
   "cell_type": "code",
   "execution_count": 11,
   "metadata": {},
   "outputs": [],
   "source": [
    "utils.save_config(yaml_config, 'nuqe_config.yml')"
   ]
  },
  {
   "cell_type": "markdown",
   "metadata": {},
   "source": [
    "Then, you can use either the API or the command line to call kiwi and begin training with this configuration!"
   ]
  },
  {
   "cell_type": "code",
   "execution_count": 12,
   "metadata": {
    "scrolled": false
   },
   "outputs": [
    {
     "name": "stderr",
     "output_type": "stream",
     "text": [
      "2019-08-28 12:38:16.358 [root setup:380] This is run ID: d4ae12531a4243faaf4355bbf2fd9e14\n",
      "2019-08-28 12:38:16.359 [root setup:383] Inside experiment ID: 0 (None)\n",
      "2019-08-28 12:38:16.360 [root setup:386] Local output directory is: runs/nuqe\n",
      "2019-08-28 12:38:16.360 [root setup:389] Logging execution to MLflow at: None\n",
      "2019-08-28 12:38:16.361 [root setup:397] Using CPU\n",
      "2019-08-28 12:38:16.362 [root setup:400] Artifacts location: None\n",
      "2019-08-28 12:38:16.369 [kiwi.lib.train run:154] Training the NuQE model\n",
      "2019-08-28 12:38:17.543 [kiwi.lib.train run:187] NuQE(\n",
      "  (_loss): CrossEntropyLoss()\n",
      "  (source_emb): Embedding(6437, 50, padding_idx=1)\n",
      "  (target_emb): Embedding(7493, 50, padding_idx=1)\n",
      "  (embeddings_dropout): Dropout(p=0.5, inplace=False)\n",
      "  (linear_1): Linear(in_features=300, out_features=400, bias=True)\n",
      "  (linear_2): Linear(in_features=400, out_features=400, bias=True)\n",
      "  (linear_3): Linear(in_features=400, out_features=200, bias=True)\n",
      "  (linear_4): Linear(in_features=200, out_features=200, bias=True)\n",
      "  (linear_5): Linear(in_features=400, out_features=100, bias=True)\n",
      "  (linear_6): Linear(in_features=100, out_features=50, bias=True)\n",
      "  (linear_out): Linear(in_features=50, out_features=2, bias=True)\n",
      "  (gru_1): GRU(400, 200, batch_first=True, bidirectional=True)\n",
      "  (gru_2): GRU(200, 200, batch_first=True, bidirectional=True)\n",
      "  (dropout_in): Dropout(p=0.0, inplace=False)\n",
      "  (dropout_out): Dropout(p=0.0, inplace=False)\n",
      ")\n",
      "2019-08-28 12:38:17.544 [kiwi.lib.train run:188] 2347752 parameters\n",
      "2019-08-28 12:38:17.544 [kiwi.trainers.trainer run:74] Epoch 1 of 3\n",
      "Batches:  47%|████████████▋              | 99/211 [00:34<00:32,  3.44 batches/s]2019-08-28 12:38:52.996 [kiwi.metrics.stats log:60] tags_F1_MULT: 0.0585, tags_F1_OK: 0.9268, tags_F1_BAD: 0.0631, tags_CORRECT: 0.8641, loss_loss: 892.1683\n",
      "Batches:  47%|████████████▎             | 100/211 [00:35<00:40,  2.72 batches/s]"
     ]
    },
    {
     "name": "stdout",
     "output_type": "stream",
     "text": [
      "\r",
      "\r"
     ]
    },
    {
     "name": "stderr",
     "output_type": "stream",
     "text": [
      "Batches:  94%|████████████████████████▌ | 199/211 [01:11<00:03,  3.53 batches/s]2019-08-28 12:39:29.996 [kiwi.metrics.stats log:60] tags_F1_MULT: 0.1444, tags_F1_OK: 0.9226, tags_F1_BAD: 0.1566, tags_CORRECT: 0.8581, loss_loss: 839.3134\n",
      "Batches:  95%|████████████████████████▋ | 200/211 [01:12<00:04,  2.50 batches/s]"
     ]
    },
    {
     "name": "stdout",
     "output_type": "stream",
     "text": [
      "\r",
      "\r"
     ]
    },
    {
     "name": "stderr",
     "output_type": "stream",
     "text": [
      "Batches: 100%|██████████████████████████| 211/211 [01:16<00:00,  2.78 batches/s]\n",
      "2019-08-28 12:39:33.628 [kiwi.metrics.stats log:60] tags_F1_MULT: 0.2197, tags_F1_OK: 0.9026, tags_F1_BAD: 0.2434, tags_CORRECT: 0.8275, loss_loss: 778.8877\n"
     ]
    },
    {
     "name": "stdout",
     "output_type": "stream",
     "text": [
      "\r",
      "\r"
     ]
    },
    {
     "name": "stderr",
     "output_type": "stream",
     "text": [
      "2019-08-28 12:39:36.097 [kiwi.metrics.stats log:60] EVAL_tags_F1_MULT: 0.2539, EVAL_tags_F1_OK: 0.9204, EVAL_tags_F1_BAD: 0.2759, EVAL_tags_CORRECT: 0.8566, EVAL_loss_loss: 778.1346\n",
      "2019-08-28 12:39:36.099 [root save:182] Saving training state to runs/nuqe/epoch_1\n"
     ]
    },
    {
     "name": "stdout",
     "output_type": "stream",
     "text": [
      "\r",
      "\r"
     ]
    },
    {
     "name": "stderr",
     "output_type": "stream",
     "text": [
      "2019-08-28 12:39:38.591 [kiwi.data.utils save_predicted_probabilities:265] Saving tags predictions to runs/nuqe/epoch_1/tags\n",
      "2019-08-28 12:39:38.615 [kiwi.trainers.trainer run:74] Epoch 2 of 3\n",
      "Batches:  42%|███████████▎               | 88/211 [00:30<00:37,  3.25 batches/s]2019-08-28 12:40:09.876 [kiwi.metrics.stats log:60] tags_F1_MULT: 0.2127, tags_F1_OK: 0.9185, tags_F1_BAD: 0.2316, tags_CORRECT: 0.8526, loss_loss: 793.7848\n",
      "Batches:  42%|███████████▍               | 89/211 [00:31<00:56,  2.17 batches/s]"
     ]
    },
    {
     "name": "stdout",
     "output_type": "stream",
     "text": [
      "\r",
      "\r"
     ]
    },
    {
     "name": "stderr",
     "output_type": "stream",
     "text": [
      "Batches:  89%|███████████████████████▏  | 188/211 [01:08<00:08,  2.81 batches/s]2019-08-28 12:40:47.336 [kiwi.metrics.stats log:60] tags_F1_MULT: 0.2337, tags_F1_OK: 0.9113, tags_F1_BAD: 0.2565, tags_CORRECT: 0.8414, loss_loss: 826.8426\n",
      "Batches:  90%|███████████████████████▎  | 189/211 [01:08<00:09,  2.34 batches/s]"
     ]
    },
    {
     "name": "stdout",
     "output_type": "stream",
     "text": [
      "\r",
      "\r"
     ]
    },
    {
     "name": "stderr",
     "output_type": "stream",
     "text": [
      "Batches: 100%|██████████████████████████| 211/211 [01:16<00:00,  2.77 batches/s]\n",
      "2019-08-28 12:40:54.926 [kiwi.metrics.stats log:60] tags_F1_MULT: 0.2511, tags_F1_OK: 0.9137, tags_F1_BAD: 0.2748, tags_CORRECT: 0.8457, loss_loss: 753.6728\n"
     ]
    },
    {
     "name": "stdout",
     "output_type": "stream",
     "text": [
      "\r",
      "\r"
     ]
    },
    {
     "name": "stderr",
     "output_type": "stream",
     "text": [
      "2019-08-28 12:40:57.400 [kiwi.metrics.stats log:60] EVAL_tags_F1_MULT: 0.2953, EVAL_tags_F1_OK: 0.8864, EVAL_tags_F1_BAD: 0.3331, EVAL_tags_CORRECT: 0.8059, EVAL_loss_loss: 769.2834\n",
      "2019-08-28 12:40:57.402 [root save:182] Saving training state to runs/nuqe/epoch_2\n",
      "2019-08-28 12:40:57.497 [kiwi.trainers.callbacks _remove_snapshot:169] Removing previous snapshot because it is worse: runs/nuqe/epoch_1\n"
     ]
    },
    {
     "name": "stdout",
     "output_type": "stream",
     "text": [
      "\r",
      "\r"
     ]
    },
    {
     "name": "stderr",
     "output_type": "stream",
     "text": [
      "2019-08-28 12:40:59.928 [kiwi.data.utils save_predicted_probabilities:265] Saving tags predictions to runs/nuqe/epoch_2/tags\n",
      "2019-08-28 12:40:59.946 [kiwi.trainers.trainer run:74] Epoch 3 of 3\n",
      "Batches:  36%|█████████▊                 | 77/211 [00:26<00:40,  3.29 batches/s]2019-08-28 12:41:27.494 [kiwi.metrics.stats log:60] tags_F1_MULT: 0.2570, tags_F1_OK: 0.9087, tags_F1_BAD: 0.2828, tags_CORRECT: 0.8380, loss_loss: 803.6428\n",
      "Batches:  37%|██████████                 | 79/211 [00:27<00:42,  3.08 batches/s]"
     ]
    },
    {
     "name": "stdout",
     "output_type": "stream",
     "text": [
      "\r",
      "\r"
     ]
    },
    {
     "name": "stderr",
     "output_type": "stream",
     "text": [
      "Batches:  84%|█████████████████████▊    | 177/211 [01:01<00:10,  3.23 batches/s]2019-08-28 12:42:02.635 [kiwi.metrics.stats log:60] tags_F1_MULT: 0.2494, tags_F1_OK: 0.9168, tags_F1_BAD: 0.2720, tags_CORRECT: 0.8507, loss_loss: 742.2121\n",
      "Batches:  84%|█████████████████████▉    | 178/211 [01:02<00:14,  2.31 batches/s]"
     ]
    },
    {
     "name": "stdout",
     "output_type": "stream",
     "text": [
      "\r",
      "\r"
     ]
    },
    {
     "name": "stderr",
     "output_type": "stream",
     "text": [
      "Batches: 100%|██████████████████████████| 211/211 [01:15<00:00,  2.79 batches/s]\n",
      "2019-08-28 12:42:15.648 [kiwi.metrics.stats log:60] tags_F1_MULT: 0.2723, tags_F1_OK: 0.9070, tags_F1_BAD: 0.3002, tags_CORRECT: 0.8359, loss_loss: 906.7080\n"
     ]
    },
    {
     "name": "stdout",
     "output_type": "stream",
     "text": [
      "\r",
      "\r"
     ]
    },
    {
     "name": "stderr",
     "output_type": "stream",
     "text": [
      "2019-08-28 12:42:18.210 [kiwi.metrics.stats log:60] EVAL_tags_F1_MULT: 0.2902, EVAL_tags_F1_OK: 0.9031, EVAL_tags_F1_BAD: 0.3213, EVAL_tags_CORRECT: 0.8304, EVAL_loss_loss: 761.5360\n",
      "2019-08-28 12:42:18.211 [root copy_best_model:224] Copying best model to runs/nuqe/best_model.torch\n"
     ]
    },
    {
     "name": "stdout",
     "output_type": "stream",
     "text": [
      "\r",
      "\r"
     ]
    }
   ],
   "source": [
    "config = 'nuqe_config.yml'\n",
    "\n",
    "#Uncomment one of the following lines, they are virtually identical\n",
    "\n",
    "run_info = kiwi.train(config)\n",
    "#!kiwi train --config nuqe_config.yml"
   ]
  },
  {
   "cell_type": "markdown",
   "metadata": {},
   "source": [
    "# Evaluating and Finetuning an existing model\n",
    "\n",
    "Finally, OpenKiwi also provides an easy way to evaluate existing models against a QE dataset. Here, we will evaluate one of our pre-trained models against the WMT19 dev set (as the test sets are unfortunately not available). \n",
    "\n",
    "Then, we will try to continue fine-tuning this model in an attempt to increase it's performance."
   ]
  },
  {
   "cell_type": "markdown",
   "metadata": {},
   "source": [
    "### Evaluation\n",
    "\n",
    "As with training, we defined the evaluation options through a yaml config file. Here, we will use our pre-trained model to predict the tags for the WMMT19 dev set."
   ]
  },
  {
   "cell_type": "code",
   "execution_count": 20,
   "metadata": {},
   "outputs": [
    {
     "data": {
      "application/javascript": [
       "\n",
       "            require(\n",
       "                [\n",
       "                    \"notebook/js/codecell\",\n",
       "                    \"codemirror/mode/yaml/yaml\"\n",
       "                ],\n",
       "                function(cc){\n",
       "                    cc.CodeCell.options_default.highlight_modes.magic_yaml = {\n",
       "                        reg: [\"^%%yaml\"]\n",
       "                    }\n",
       "                }\n",
       "            );\n",
       "            "
      ],
      "text/plain": [
       "<IPython.core.display.Javascript object>"
      ]
     },
     "metadata": {},
     "output_type": "display_data"
    }
   ],
   "source": [
    "%%yaml predest_predict\n",
    "output-dir: predictions/predest\n",
    "\n",
    "#\n",
    "# GENERAL OPTIONS\n",
    "#\n",
    "# random\n",
    "seed: 42\n",
    "\n",
    "# gpu\n",
    "gpu-id: -1\n",
    "\n",
    "model: estimator\n",
    "\n",
    "# save and load\n",
    "load-model: trained_models/estimator_en_de.torch/estimator_en_de.torch\n",
    "\n",
    "#\n",
    "# DATA OPTIONS\n",
    "#\n",
    "wmt18-format: False\n",
    "test-source: WMT19/dev.src\n",
    "test-target: WMT19/dev.mt\n",
    "valid-batch-size: 64"
   ]
  },
  {
   "cell_type": "markdown",
   "metadata": {},
   "source": [
    "Again, we save the config and call the CLI. This will create predictions in the `output-dir`."
   ]
  },
  {
   "cell_type": "code",
   "execution_count": 21,
   "metadata": {},
   "outputs": [
    {
     "name": "stdout",
     "output_type": "stream",
     "text": [
      "2019-08-28 12:46:29.592 [kiwi.lib.predict setup:159] {'batch_size': 64,\n",
      " 'config': 'predest_predict.yml',\n",
      " 'debug': False,\n",
      " 'experiment_name': None,\n",
      " 'gpu_id': -1,\n",
      " 'load_data': None,\n",
      " 'load_model': 'trained_models/estimator_en_de.torch/estimator_en_de.torch',\n",
      " 'load_vocab': None,\n",
      " 'log_interval': 100,\n",
      " 'mlflow_always_log_artifacts': False,\n",
      " 'mlflow_tracking_uri': 'mlruns/',\n",
      " 'model': 'estimator',\n",
      " 'output_dir': 'predictions/predest/wmt17',\n",
      " 'quiet': False,\n",
      " 'run_uuid': None,\n",
      " 'save_config': None,\n",
      " 'save_data': None,\n",
      " 'seed': 42}\n",
      "2019-08-28 12:46:29.593 [kiwi.lib.predict setup:160] Local output directory is: predictions/predest/wmt17\n",
      "2019-08-28 12:46:29.593 [kiwi.lib.predict run:100] Predict with the PredEst (Predictor-Estimator) model\n",
      "2019-08-28 12:46:34.102 [kiwi.data.utils load_vocabularies_to_fields:126] Loaded vocabularies from trained_models/estimator_en_de.torch/estimator_en_de.torch\n",
      "2019-08-28 12:47:46.470 [kiwi.data.utils save_predicted_probabilities:265] Saving tags predictions to predictions/predest/wmt17/tags\n",
      "2019-08-28 12:47:46.488 [kiwi.data.utils save_predicted_probabilities:265] Saving gap_tags predictions to predictions/predest/wmt17/gap_tags\n",
      "2019-08-28 12:47:46.509 [kiwi.data.utils save_predicted_probabilities:265] Saving sentence_scores predictions to predictions/predest/wmt17/sentence_scores\n"
     ]
    }
   ],
   "source": [
    "utils.save_config(predest_predict, 'predest_predict.yml')\n",
    "!kiwi predict --config predest_predict.yml"
   ]
  },
  {
   "cell_type": "markdown",
   "metadata": {},
   "source": [
    "Finally, we define a yaml for the evaluation pipeline. "
   ]
  },
  {
   "cell_type": "code",
   "execution_count": 22,
   "metadata": {},
   "outputs": [
    {
     "data": {
      "application/javascript": [
       "\n",
       "            require(\n",
       "                [\n",
       "                    \"notebook/js/codecell\",\n",
       "                    \"codemirror/mode/yaml/yaml\"\n",
       "                ],\n",
       "                function(cc){\n",
       "                    cc.CodeCell.options_default.highlight_modes.magic_yaml = {\n",
       "                        reg: [\"^%%yaml\"]\n",
       "                    }\n",
       "                }\n",
       "            );\n",
       "            "
      ],
      "text/plain": [
       "<IPython.core.display.Javascript object>"
      ]
     },
     "metadata": {},
     "output_type": "display_data"
    }
   ],
   "source": [
    "%%yaml predest_evaluate\n",
    "# Example file for configuring the evaluation pipeline\n",
    "#\n",
    "# The input type for prediction files (Probabilities[probs] or tags)\n",
    "type: probs\n",
    " \n",
    "# The format of gold files (wmt17/wmt18)\n",
    "format: wmt18\n",
    "\n",
    "# Format of predictions (wmt17/wmt18). Either they predict gaps or not.\n",
    "pred-format: wmt17\n",
    "\n",
    "# File path for the reference files\n",
    "gold-target: WMT19/dev.tags\n",
    "\n",
    "# File path for the prediction files\n",
    "pred-target: predictions/predest/tags"
   ]
  },
  {
   "cell_type": "code",
   "execution_count": 23,
   "metadata": {},
   "outputs": [
    {
     "name": "stdout",
     "output_type": "stream",
     "text": [
      "---------------------------------------------------------------\r\n",
      "Word-level scores for tags:\r\n",
      "File                        F1_mult      F1_OK        F1_BAD   \r\n",
      "predictions/predest/tags    0.38713      0.90609      0.42725  \r\n"
     ]
    }
   ],
   "source": [
    "utils.save_config(predest_evaluate, 'predest_evaluate.yml')\n",
    "!kiwi evaluate --config predest_evaluate.yml"
   ]
  },
  {
   "cell_type": "markdown",
   "metadata": {},
   "source": [
    "These results, are on par with what we expect for a single model in the wmt19 dev set."
   ]
  },
  {
   "cell_type": "markdown",
   "metadata": {},
   "source": [
    "### Finetuning\n",
    "\n",
    "Finally, we can also load the pre-trained model and continue finetuning it. \n",
    "Can we further increase it's performance?"
   ]
  },
  {
   "cell_type": "code",
   "execution_count": null,
   "metadata": {},
   "outputs": [],
   "source": [
    "%%yaml predest_finetune\n",
    "### Train Predictor Estimator ###\n",
    "\n",
    "model: estimator\n",
    "\n",
    "#### MODEL SPECIFIC OPTS ####\n",
    "\n",
    "## ESTIMATOR ##\n",
    "\n",
    "# If load-model points to a pretrained Estimator,\n",
    "# These settings are ignored.\n",
    "\n",
    "# LSTM Settings\n",
    "hidden-est: 125\n",
    "rnn-layers-est: 1\n",
    "dropout-est: 0.0\n",
    "# Use linear layer to reduce dimension prior to LSTM\n",
    "mlp-est: True\n",
    "\n",
    "# Multitask Learning Settings #\n",
    "\n",
    "# Continue training the predictor on the postedited text.\n",
    "# If set, will do an additional forward pass through the predictor\n",
    "# Using the SRC, PE pair and add the `Predictor` loss for the tokens in the\n",
    "# postedited text PE. Recommended if you have access to PE\n",
    "# Requires setting train-pe, valid-pe\n",
    "token-level: True\n",
    "# Predict Sentence Level Scores\n",
    "# Requires setting train-sentence-scores, valid-sentence-scores\n",
    "sentence-level: True\n",
    "# Use probabilistic Loss for sentence scores instead of squared error.\n",
    "# If set, the model will output mean and variance of a truncated Gaussian\n",
    "# distribution over the interval [0, 1], and use log-likelihood loss instead\n",
    "# of mean squared error.\n",
    "# Seems to improve performance\n",
    "sentence-ll: False\n",
    "# Predict Binary Label for each sentence, indicating hter == 0.0\n",
    "# Requires setting train-sentence-scores, valid-sentence-scores\n",
    "binary-level: False\n",
    "\n",
    "# WMT 18 Format Settings #\n",
    "\n",
    "# Predict target tags. Requires train-target-tags, valid-target-tags to be set.\n",
    "#predict-target: true\n",
    "target-bad-weight: 2.5\n",
    "# Predict source tags. Requires train-source-tags, valid-source-tags to be set.\n",
    "#predict-source: false\n",
    "source-bad-weight: 2.5\n",
    "# Predict gap tags. Requires train-target-tags, valid-target-tags to be set.\n",
    "# and wmt18-format set to true\n",
    "#predict-gaps: true\n",
    "target-bad-weight: 2.5\n",
    "\n",
    "### GENERAL OPTS ###\n",
    "\n",
    "# Do not set or set to negative number for CPU\n",
    "gpu-id: -1\n",
    "\n",
    "### TRAIN OPTS ###\n",
    "epochs: 1\n",
    "# Additionally Eval and checkpoint every n training steps\n",
    "# Explicitly disable by setting to zero (default)\n",
    "checkpoint-validation-steps: 300000\n",
    "# If False, never save the Models\n",
    "checkpoint-save: true\n",
    "# Keep Only the n best models according to the main metric (F1Mult by default)\n",
    "# USeful to avoid filling the harddrive during a long run\n",
    "checkpoint-keep-only-best: 3\n",
    "# If greater than zero, Early Stop after n evaluation cycles without improvement\n",
    "checkpoint-early-stop-patience: 0\n",
    "\n",
    "\n",
    "# Print Train Stats Every n batches\n",
    "log-interval: 100\n",
    "# LR. Currently ADAM is only optimizer supported.\n",
    "# 1e-3 * (batch_size / 32) seems to work well\n",
    "learning-rate: 2e-3\n",
    "\n",
    "train-batch-size: 64\n",
    "valid-batch-size: 64\n",
    "\n",
    "\n",
    "\n",
    "### LOADING ###\n",
    "\n",
    "# Load pretrained (sub-)model.\n",
    "# If set, the model architecture params are ignored.\n",
    "# As the vocabulary of the pretrained model will be used,\n",
    "# all vocab-params will also be ignored.\n",
    "\n",
    "# (i) load-pred-source or load-pred-target: Predictor instance\n",
    "#     -> a new Estimator is initialized with the given predictor(s).\n",
    "# (ii) load-model: Estimator instance.\n",
    "#                  As the Predictor is a submodule of the Estimator,\n",
    "#                  load-pred-{source,target} will be ignored if this is set.\n",
    "\n",
    "load-model: trained_models/estimator_en_de.torch/estimator_en_de.torch\n",
    "# load-pred-source: path_to_predictor_source_target\n",
    "# load-pred-target: runs/model.torch\n",
    "\n",
    "\n",
    "###  DATA ###\n",
    "\n",
    "# Set to True to use target_tags in WMT18 format\n",
    "wmt18-format: true\n",
    "\n",
    "train-source: WMT19/small/train.src\n",
    "train-target: WMT19/small/train.mt\n",
    "train-pe: WMT19/small/train.pe\n",
    "train-target-tags: WMT19/small/train.tags\n",
    "train-sentence-scores: WMT19/small/train.hter\n",
    "\n",
    "\n",
    "valid-source: WMT19/dev.src\n",
    "valid-target: WMT19/dev.mt\n",
    "valid-pe: WMT19/dev.pe\n",
    "valid-target-tags: WMT19/dev.tags\n",
    "valid-sentence-scores: WMT19/dev.hter"
   ]
  },
  {
   "cell_type": "code",
   "execution_count": null,
   "metadata": {},
   "outputs": [],
   "source": [
    "utils.save_config(predest_finetune, 'predest_config.yml')"
   ]
  },
  {
   "cell_type": "code",
   "execution_count": null,
   "metadata": {
    "scrolled": true
   },
   "outputs": [],
   "source": [
    "kiwi.train('predest_config.yml')\n",
    "#!kiwi train --config predest_config.yml"
   ]
  },
  {
   "cell_type": "markdown",
   "metadata": {},
   "source": [
    "How do these scores compare to u"
   ]
  }
 ],
 "metadata": {
  "kernelspec": {
   "display_name": "kiwi_tut",
   "language": "python",
   "name": "kiwi_tut"
  },
  "language_info": {
   "codemirror_mode": {
    "name": "ipython",
    "version": 3
   },
   "file_extension": ".py",
   "mimetype": "text/x-python",
   "name": "python",
   "nbconvert_exporter": "python",
   "pygments_lexer": "ipython3",
   "version": "3.7.4"
  }
 },
 "nbformat": 4,
 "nbformat_minor": 2
}
